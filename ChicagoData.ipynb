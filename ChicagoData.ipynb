{
 "cells": [
  {
   "cell_type": "markdown",
   "source": [
    "# Extracting and Visualize Chicago Public Data\n",
    "\n",
    "## This is a Peer-graded Assignment: Analyze the census, crime, and school data for a given neighborhood or district\n",
    "\n",
    "### installing all modules"
   ],
   "metadata": {
    "collapsed": false
   }
  },
  {
   "cell_type": "code",
   "execution_count": 2,
   "outputs": [
    {
     "name": "stdout",
     "output_type": "stream",
     "text": [
      "Requirement already satisfied: mysql-connector-python in /Users/js/anaconda3/envs/IBM-DataScienceEcosystem/lib/python3.10/site-packages (8.0.33)\r\n",
      "Requirement already satisfied: protobuf<=3.20.3,>=3.11.0 in /Users/js/anaconda3/envs/IBM-DataScienceEcosystem/lib/python3.10/site-packages (from mysql-connector-python) (3.20.3)\r\n"
     ]
    }
   ],
   "source": [
    "!pip install mysql-connector-python"
   ],
   "metadata": {
    "collapsed": false,
    "ExecuteTime": {
     "end_time": "2023-06-30T07:41:07.247984Z",
     "start_time": "2023-06-30T07:41:06.609722Z"
    }
   }
  },
  {
   "cell_type": "code",
   "execution_count": 4,
   "outputs": [
    {
     "data": {
      "text/plain": "[('ibm',),\n ('information_schema',),\n ('mysql',),\n ('performance_schema',),\n ('sys',)]"
     },
     "execution_count": 4,
     "metadata": {},
     "output_type": "execute_result"
    }
   ],
   "source": [
    "import mysql.connector as connection\n",
    "data_db = connection.connect(host = 'localhost', user = 'root', password = '%env', db = 'ibm')\n",
    "cursor = data_db.cursor()\n",
    "\n",
    "cursor.execute('show databases')\n",
    "cursor.fetchall()"
   ],
   "metadata": {
    "collapsed": false,
    "ExecuteTime": {
     "end_time": "2023-06-30T08:03:04.817670Z",
     "start_time": "2023-06-30T08:03:04.800158Z"
    }
   }
  },
  {
   "cell_type": "code",
   "execution_count": 5,
   "outputs": [
    {
     "data": {
      "text/plain": "[('ChicagoCensusData',), ('ChicagoCrimeData_xsl',), ('ChicagoPublicSchools',)]"
     },
     "execution_count": 5,
     "metadata": {},
     "output_type": "execute_result"
    }
   ],
   "source": [
    "cursor.execute('use ibm')\n",
    "cursor.execute('show tables')\n",
    "cursor.fetchall()"
   ],
   "metadata": {
    "collapsed": false,
    "ExecuteTime": {
     "end_time": "2023-06-30T08:04:15.980830Z",
     "start_time": "2023-06-30T08:04:15.970477Z"
    }
   }
  },
  {
   "cell_type": "markdown",
   "source": [
    "1. Find the total number of crimes in the CRIME table"
   ],
   "metadata": {
    "collapsed": false
   }
  },
  {
   "cell_type": "code",
   "execution_count": 6,
   "outputs": [
    {
     "name": "stdout",
     "output_type": "stream",
     "text": [
      "533\n"
     ]
    }
   ],
   "source": [
    "import pandas as pd\n",
    "\n",
    "# extract all data\n",
    "cursor.execute(\"select * from ChicagoCrimeData_xsl\")\n",
    "data = cursor.fetchall()\n",
    "df = pd.DataFrame(data)\n",
    "\n",
    "# find rows amount\n",
    "count_row = df.shape[0]\n",
    "print(count_row)"
   ],
   "metadata": {
    "collapsed": false,
    "ExecuteTime": {
     "end_time": "2023-06-30T08:07:13.026609Z",
     "start_time": "2023-06-30T08:07:12.201164Z"
    }
   }
  },
  {
   "cell_type": "markdown",
   "source": [
    "2. List community areas with per capita income less than 1000"
   ],
   "metadata": {
    "collapsed": false
   }
  },
  {
   "cell_type": "code",
   "execution_count": 7,
   "outputs": [
    {
     "name": "stdout",
     "output_type": "stream",
     "text": [
      "                    0\n",
      "0  West Garfield Park\n",
      "1      South Lawndale\n",
      "2         Fuller Park\n",
      "3           Riverdale\n"
     ]
    }
   ],
   "source": [
    "cursor.execute(\"select community_area_name from ChicagoCensusData where per_capita_income < 11000\")\n",
    "census_data = cursor.fetchall()\n",
    "df = pd.DataFrame(census_data)\n",
    "print(df)"
   ],
   "metadata": {
    "collapsed": false,
    "ExecuteTime": {
     "end_time": "2023-06-30T08:09:15.398663Z",
     "start_time": "2023-06-30T08:09:15.389371Z"
    }
   }
  },
  {
   "cell_type": "markdown",
   "source": [
    "3. List all case numbers for crimes involving minors?(children are not considered minors for the purposes of crime analysis"
   ],
   "metadata": {
    "collapsed": false
   }
  },
  {
   "cell_type": "code",
   "execution_count": 9,
   "outputs": [
    {
     "name": "stdout",
     "output_type": "stream",
     "text": [
      "          0\n",
      "0  HL266884\n",
      "1  HK238408\n"
     ]
    }
   ],
   "source": [
    "cursor.execute(\"select case_number from ChicagoCrimeData_xsl where description like '%MINOR%'\")\n",
    "minor_crime_data = cursor.fetchall()\n",
    "df = pd.DataFrame(minor_crime_data)\n",
    "print(df)"
   ],
   "metadata": {
    "collapsed": false,
    "ExecuteTime": {
     "end_time": "2023-06-30T08:10:53.803296Z",
     "start_time": "2023-06-30T08:10:53.793793Z"
    }
   }
  },
  {
   "cell_type": "markdown",
   "source": [
    "4. List all kidnapping crimes involving a child"
   ],
   "metadata": {
    "collapsed": false
   }
  },
  {
   "cell_type": "code",
   "execution_count": 10,
   "outputs": [
    {
     "name": "stdout",
     "output_type": "stream",
     "text": [
      "          ID CASE_NUMBER       DATE                 BLOCK    IUCR  \\\n",
      "0  5276766.0    HN144152 2007-01-26  050XX W VAN BUREN ST  1792.0   \n",
      "\n",
      "  PRIMARY_TYPE               DESCRIPTION LOCATION_DESCRIPTION ARREST DOMESTIC  \\\n",
      "0   KIDNAPPING  CHILD ABDUCTION/STRANGER               STREET  False    False   \n",
      "\n",
      "   ... DISTRICT  WARD COMMUNITY_AREA_NUMBER FBICODE X_COORDINATE Y_COORDINATE  \\\n",
      "0  ...     15.0  29.0                  25.0    20.0    1143050.0    1897546.0   \n",
      "\n",
      "     YEAR            LATITUDE           LONGITUDE  \\\n",
      "0  2007.0  41.874908410000000  -87.75024931000000   \n",
      "\n",
      "                        LOCATION  \n",
      "0  (41.874908413, -87.750249307)  \n",
      "\n",
      "[1 rows x 21 columns]\n"
     ]
    }
   ],
   "source": [
    "cursor.execute(\"select * from ChicagoCrimeData_xsl where primary_type like '%KIDNAP%' and description like '%CHILD%'\")\n",
    "kidnap_crime_data = cursor.fetchall()\n",
    "df = pd.DataFrame(kidnap_crime_data, columns=['ID', 'CASE_NUMBER', 'DATE', 'BLOCK', 'IUCR', 'PRIMARY_TYPE', 'DESCRIPTION', 'LOCATION_DESCRIPTION', 'ARREST', 'DOMESTIC', 'BEAT', 'DISTRICT', 'WARD', 'COMMUNITY_AREA_NUMBER', 'FBICODE', 'X_COORDINATE', 'Y_COORDINATE', 'YEAR', 'LATITUDE', 'LONGITUDE', 'LOCATION'])\n",
    "print(df)"
   ],
   "metadata": {
    "collapsed": false,
    "ExecuteTime": {
     "end_time": "2023-06-30T08:11:25.429946Z",
     "start_time": "2023-06-30T08:11:25.417998Z"
    }
   }
  },
  {
   "cell_type": "markdown",
   "source": [
    "5. What kind of crimes were recorded at school"
   ],
   "metadata": {
    "collapsed": false
   }
  },
  {
   "cell_type": "code",
   "execution_count": 11,
   "outputs": [
    {
     "name": "stdout",
     "output_type": "stream",
     "text": [
      "                        0\n",
      "0                 BATTERY\n",
      "1         CRIMINAL DAMAGE\n",
      "2               NARCOTICS\n",
      "3                 ASSAULT\n",
      "4       CRIMINAL TRESPASS\n",
      "5  PUBLIC PEACE VIOLATION\n"
     ]
    }
   ],
   "source": [
    "cursor.execute(\"select distinct primary_type from ChicagoCrimeData_xsl where location_description like '%SCHOOL%'\")\n",
    "school_crime_data = cursor.fetchall()\n",
    "df = pd.DataFrame(school_crime_data)\n",
    "print(df)"
   ],
   "metadata": {
    "collapsed": false,
    "ExecuteTime": {
     "end_time": "2023-06-30T08:12:26.641893Z",
     "start_time": "2023-06-30T08:12:26.633174Z"
    }
   }
  },
  {
   "cell_type": "markdown",
   "source": [
    "6. List the average safety score for all type of schools"
   ],
   "metadata": {
    "collapsed": false
   }
  },
  {
   "cell_type": "code",
   "execution_count": 12,
   "outputs": [
    {
     "name": "stdout",
     "output_type": "stream",
     "text": [
      "    0        1\n",
      "0  ES  49.5204\n",
      "1  HS  49.6235\n",
      "2  MS  48.0000\n"
     ]
    }
   ],
   "source": [
    "cursor.execute(\"select Elementary_Middle_or_High_School, AVG(safety_score) from ChicagoPublicSchools group by Elementary_Middle_or_High_School\")\n",
    "school_safety_score = cursor.fetchall()\n",
    "df = pd.DataFrame(school_safety_score)\n",
    "print(df)"
   ],
   "metadata": {
    "collapsed": false,
    "ExecuteTime": {
     "end_time": "2023-06-30T08:13:14.886991Z",
     "start_time": "2023-06-30T08:13:14.877657Z"
    }
   }
  },
  {
   "cell_type": "markdown",
   "source": [
    "7. List 5 community areas with highest % of households below poverty line"
   ],
   "metadata": {
    "collapsed": false
   }
  },
  {
   "cell_type": "code",
   "execution_count": 13,
   "outputs": [
    {
     "name": "stdout",
     "output_type": "stream",
     "text": [
      "                    0     1\n",
      "0           Riverdale  56.5\n",
      "1         Fuller Park  51.2\n",
      "2           Englewood  46.6\n",
      "3      North Lawndale  43.1\n",
      "4  East Garfield Park  42.4\n"
     ]
    }
   ],
   "source": [
    "cursor.execute(\"select community_area_name, percent_households_below_poverty from ChicagoCensusData order by  percent_households_below_poverty desc limit 5\")\n",
    "community_data = cursor.fetchall()\n",
    "df = pd.DataFrame(community_data)\n",
    "print(df)"
   ],
   "metadata": {
    "collapsed": false,
    "ExecuteTime": {
     "end_time": "2023-06-30T08:14:49.447831Z",
     "start_time": "2023-06-30T08:14:49.437899Z"
    }
   }
  },
  {
   "cell_type": "markdown",
   "source": [
    "8. Which community area(number) is most crime prone"
   ],
   "metadata": {
    "collapsed": false
   }
  },
  {
   "cell_type": "code",
   "execution_count": 14,
   "outputs": [
    {
     "name": "stdout",
     "output_type": "stream",
     "text": [
      "      0   1\n",
      "0  25.0  43\n"
     ]
    }
   ],
   "source": [
    "cursor.execute(\"select community_area_number, count(*) as frequency from ChicagoCrimeData_xsl group by  community_area_number order by frequency desc limit 1\")\n",
    "community_number_data = cursor.fetchall()\n",
    "df = pd.DataFrame(community_number_data)\n",
    "print(df)"
   ],
   "metadata": {
    "collapsed": false,
    "ExecuteTime": {
     "end_time": "2023-06-30T08:15:48.997696Z",
     "start_time": "2023-06-30T08:15:48.988891Z"
    }
   }
  },
  {
   "cell_type": "markdown",
   "source": [
    "9. Use a sub-query to find the name of the community area with the highest hardship index"
   ],
   "metadata": {
    "collapsed": false
   }
  },
  {
   "cell_type": "code",
   "execution_count": 15,
   "outputs": [
    {
     "name": "stdout",
     "output_type": "stream",
     "text": [
      "           0\n",
      "0  Riverdale\n"
     ]
    }
   ],
   "source": [
    "cursor.execute(\"select community_area_name from ChicagoCensusData where hardship_index = (select max(hardship_index) from ChicagoCensusData)\")\n",
    "hard_index_data = cursor.fetchall()\n",
    "df = pd.DataFrame(hard_index_data)\n",
    "print(df)"
   ],
   "metadata": {
    "collapsed": false,
    "ExecuteTime": {
     "end_time": "2023-06-30T08:16:49.659565Z",
     "start_time": "2023-06-30T08:16:49.649259Z"
    }
   }
  },
  {
   "cell_type": "markdown",
   "source": [
    "10. Use a sub-query to determine the Community Area Name with most number of crimes"
   ],
   "metadata": {
    "collapsed": false
   }
  },
  {
   "cell_type": "code",
   "execution_count": 16,
   "outputs": [
    {
     "name": "stdout",
     "output_type": "stream",
     "text": [
      "                    0     1\n",
      "0           Riverdale  56.5\n",
      "1         Fuller Park  51.2\n",
      "2           Englewood  46.6\n",
      "3      North Lawndale  43.1\n",
      "4  East Garfield Park  42.4\n"
     ]
    }
   ],
   "source": [
    "cursor.execute(\"select community_area_name from ChicagoCensusData where community_area_number = (select community_area_number from ChicagoCrimeData_xsl where community_area_number = 25 limit 1)\")\n",
    "community_area_data = cursor.fetchall()\n",
    "df = pd.DataFrame(community_data)\n",
    "print(df)"
   ],
   "metadata": {
    "collapsed": false,
    "ExecuteTime": {
     "end_time": "2023-06-30T08:17:28.415876Z",
     "start_time": "2023-06-30T08:17:28.404256Z"
    }
   }
  }
 ],
 "metadata": {
  "kernelspec": {
   "display_name": "Python 3",
   "language": "python",
   "name": "python3"
  },
  "language_info": {
   "codemirror_mode": {
    "name": "ipython",
    "version": 2
   },
   "file_extension": ".py",
   "mimetype": "text/x-python",
   "name": "python",
   "nbconvert_exporter": "python",
   "pygments_lexer": "ipython2",
   "version": "2.7.6"
  }
 },
 "nbformat": 4,
 "nbformat_minor": 0
}
