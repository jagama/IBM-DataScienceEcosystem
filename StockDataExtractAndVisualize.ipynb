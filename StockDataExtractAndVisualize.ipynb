{
 "cells": [
  {
   "cell_type": "markdown",
   "source": [
    "# Extracting and Visualize Stck Data\n",
    "\n",
    "## This is a Peer-graded Assignment: Analyzing Historical Stock/Revenue Data and Building a Dashboard\n",
    "\n",
    "### Table of Contents\n",
    "\n",
    "1. Use yfinance to Extract Stock Data\n",
    "2. Use Webscraping to Extract Tesla Revenue Data\n",
    "3. Use yfinance to Extract Stock Data\n",
    "4. Use Webscraping to Extract GME Revenue Data\n",
    "5. Plot Tesla Stock Graph\n",
    "6. Plot GameStop Stock Graph"
   ],
   "metadata": {
    "collapsed": false
   }
  },
  {
   "cell_type": "code",
   "execution_count": null,
   "outputs": [],
   "source": [
    "!pip install yfinance"
   ],
   "metadata": {
    "collapsed": false
   }
  },
  {
   "cell_type": "code",
   "execution_count": null,
   "outputs": [],
   "source": [
    "!pip install plotly"
   ],
   "metadata": {
    "collapsed": false
   }
  },
  {
   "cell_type": "code",
   "execution_count": 2,
   "outputs": [],
   "source": [
    "import yfinance as yf\n",
    "import pandas as pd\n",
    "import requests\n",
    "from bs4 import BeautifulSoup\n",
    "import plotly.graph_objects as go\n",
    "from plotly.subplots import make_subplots"
   ],
   "metadata": {
    "collapsed": false,
    "ExecuteTime": {
     "end_time": "2023-06-26T12:09:43.487536Z",
     "start_time": "2023-06-26T12:09:42.331552Z"
    }
   }
  },
  {
   "cell_type": "markdown",
   "source": [
    "Use yfinance to Extract Stock Data\n",
    "define Ticker by entering symbol stock"
   ],
   "metadata": {
    "collapsed": false
   }
  },
  {
   "cell_type": "code",
   "execution_count": 3,
   "outputs": [],
   "source": [
    "tesla = yf.Ticker('TSLA')"
   ],
   "metadata": {
    "collapsed": false,
    "ExecuteTime": {
     "end_time": "2023-06-26T12:09:46.609413Z",
     "start_time": "2023-06-26T12:09:46.604840Z"
    }
   }
  },
  {
   "cell_type": "markdown",
   "source": [
    "using ticker . history function to obtain information and save it to my dataframe (df)"
   ],
   "metadata": {
    "collapsed": false
   }
  },
  {
   "cell_type": "code",
   "execution_count": 4,
   "outputs": [],
   "source": [
    "tesla_data = tesla.history(period='max')"
   ],
   "metadata": {
    "collapsed": false,
    "ExecuteTime": {
     "end_time": "2023-06-26T12:09:53.054575Z",
     "start_time": "2023-06-26T12:09:52.546803Z"
    }
   }
  },
  {
   "cell_type": "markdown",
   "source": [
    "reset the index in order to display the first five rows using the head function"
   ],
   "metadata": {
    "collapsed": false
   }
  },
  {
   "cell_type": "code",
   "execution_count": 5,
   "outputs": [
    {
     "data": {
      "text/plain": "                       Date      Open      High       Low     Close  \\\n0 2010-06-29 00:00:00-04:00  1.266667  1.666667  1.169333  1.592667   \n1 2010-06-30 00:00:00-04:00  1.719333  2.028000  1.553333  1.588667   \n2 2010-07-01 00:00:00-04:00  1.666667  1.728000  1.351333  1.464000   \n3 2010-07-02 00:00:00-04:00  1.533333  1.540000  1.247333  1.280000   \n4 2010-07-06 00:00:00-04:00  1.333333  1.333333  1.055333  1.074000   \n\n      Volume  Dividends  Stock Splits  \n0  281494500        0.0           0.0  \n1  257806500        0.0           0.0  \n2  123282000        0.0           0.0  \n3   77097000        0.0           0.0  \n4  103003500        0.0           0.0  ",
      "text/html": "<div>\n<style scoped>\n    .dataframe tbody tr th:only-of-type {\n        vertical-align: middle;\n    }\n\n    .dataframe tbody tr th {\n        vertical-align: top;\n    }\n\n    .dataframe thead th {\n        text-align: right;\n    }\n</style>\n<table border=\"1\" class=\"dataframe\">\n  <thead>\n    <tr style=\"text-align: right;\">\n      <th></th>\n      <th>Date</th>\n      <th>Open</th>\n      <th>High</th>\n      <th>Low</th>\n      <th>Close</th>\n      <th>Volume</th>\n      <th>Dividends</th>\n      <th>Stock Splits</th>\n    </tr>\n  </thead>\n  <tbody>\n    <tr>\n      <th>0</th>\n      <td>2010-06-29 00:00:00-04:00</td>\n      <td>1.266667</td>\n      <td>1.666667</td>\n      <td>1.169333</td>\n      <td>1.592667</td>\n      <td>281494500</td>\n      <td>0.0</td>\n      <td>0.0</td>\n    </tr>\n    <tr>\n      <th>1</th>\n      <td>2010-06-30 00:00:00-04:00</td>\n      <td>1.719333</td>\n      <td>2.028000</td>\n      <td>1.553333</td>\n      <td>1.588667</td>\n      <td>257806500</td>\n      <td>0.0</td>\n      <td>0.0</td>\n    </tr>\n    <tr>\n      <th>2</th>\n      <td>2010-07-01 00:00:00-04:00</td>\n      <td>1.666667</td>\n      <td>1.728000</td>\n      <td>1.351333</td>\n      <td>1.464000</td>\n      <td>123282000</td>\n      <td>0.0</td>\n      <td>0.0</td>\n    </tr>\n    <tr>\n      <th>3</th>\n      <td>2010-07-02 00:00:00-04:00</td>\n      <td>1.533333</td>\n      <td>1.540000</td>\n      <td>1.247333</td>\n      <td>1.280000</td>\n      <td>77097000</td>\n      <td>0.0</td>\n      <td>0.0</td>\n    </tr>\n    <tr>\n      <th>4</th>\n      <td>2010-07-06 00:00:00-04:00</td>\n      <td>1.333333</td>\n      <td>1.333333</td>\n      <td>1.055333</td>\n      <td>1.074000</td>\n      <td>103003500</td>\n      <td>0.0</td>\n      <td>0.0</td>\n    </tr>\n  </tbody>\n</table>\n</div>"
     },
     "execution_count": 5,
     "metadata": {},
     "output_type": "execute_result"
    }
   ],
   "source": [
    "tesla_data.reset_index(inplace=True)\n",
    "tesla_data.head()"
   ],
   "metadata": {
    "collapsed": false,
    "ExecuteTime": {
     "end_time": "2023-06-26T12:09:56.707345Z",
     "start_time": "2023-06-26T12:09:56.688788Z"
    }
   }
  },
  {
   "cell_type": "markdown",
   "source": [
    "Use Webscraping to Extract Tesla Revenue Data\n",
    "using request library to scrape data from webpage https://www.macrotrends.net/stocks/charts/TSLA/tesla/revenue and parse them using bs (beautifulSoup)"
   ],
   "metadata": {
    "collapsed": false
   }
  },
  {
   "cell_type": "code",
   "execution_count": 6,
   "outputs": [],
   "source": [
    "url = 'https://www.macrotrends.net/stocks/charts/TSLA/tesla/revenue'\n",
    "url_data = requests.get(url).text\n",
    "soup_data = BeautifulSoup(url_data, 'html5lib')"
   ],
   "metadata": {
    "collapsed": false,
    "ExecuteTime": {
     "end_time": "2023-06-26T12:10:45.324168Z",
     "start_time": "2023-06-26T12:10:44.993669Z"
    }
   }
  },
  {
   "cell_type": "markdown",
   "source": [
    "extract table and store data in df (remove \"$\" and \",\" from columns)"
   ],
   "metadata": {
    "collapsed": false
   }
  },
  {
   "cell_type": "code",
   "execution_count": 7,
   "outputs": [
    {
     "data": {
      "text/plain": "          Date Revenue\n0   2023-03-31   23329\n1   2022-12-31   24318\n2   2022-09-30   21454\n3   2022-06-30   16934\n4   2022-03-31   18756\n5   2021-12-31   17719\n6   2021-09-30   13757\n7   2021-06-30   11958\n8   2021-03-31   10389\n9   2020-12-31   10744\n10  2020-09-30    8771\n11  2020-06-30    6036\n12  2020-03-31    5985\n13  2019-12-31    7384\n14  2019-09-30    6303\n15  2019-06-30    6350\n16  2019-03-31    4541\n17  2018-12-31    7226\n18  2018-09-30    6824\n19  2018-06-30    4002\n20  2018-03-31    3409\n21  2017-12-31    3288\n22  2017-09-30    2985\n23  2017-06-30    2790\n24  2017-03-31    2696\n25  2016-12-31    2285\n26  2016-09-30    2298\n27  2016-06-30    1270\n28  2016-03-31    1147\n29  2015-12-31    1214\n30  2015-09-30     937\n31  2015-06-30     955\n32  2015-03-31     940\n33  2014-12-31     957\n34  2014-09-30     852\n35  2014-06-30     769\n36  2014-03-31     621\n37  2013-12-31     615\n38  2013-09-30     431\n39  2013-06-30     405\n40  2013-03-31     562\n41  2012-12-31     306\n42  2012-09-30      50\n43  2012-06-30      27\n44  2012-03-31      30\n45  2011-12-31      39\n46  2011-09-30      58\n47  2011-06-30      58\n48  2011-03-31      49\n49  2010-12-31      36\n50  2010-09-30      31\n51  2010-06-30      28\n52  2010-03-31      21\n53  2009-12-31        \n54  2009-09-30      46\n55  2009-06-30      27",
      "text/html": "<div>\n<style scoped>\n    .dataframe tbody tr th:only-of-type {\n        vertical-align: middle;\n    }\n\n    .dataframe tbody tr th {\n        vertical-align: top;\n    }\n\n    .dataframe thead th {\n        text-align: right;\n    }\n</style>\n<table border=\"1\" class=\"dataframe\">\n  <thead>\n    <tr style=\"text-align: right;\">\n      <th></th>\n      <th>Date</th>\n      <th>Revenue</th>\n    </tr>\n  </thead>\n  <tbody>\n    <tr>\n      <th>0</th>\n      <td>2023-03-31</td>\n      <td>23329</td>\n    </tr>\n    <tr>\n      <th>1</th>\n      <td>2022-12-31</td>\n      <td>24318</td>\n    </tr>\n    <tr>\n      <th>2</th>\n      <td>2022-09-30</td>\n      <td>21454</td>\n    </tr>\n    <tr>\n      <th>3</th>\n      <td>2022-06-30</td>\n      <td>16934</td>\n    </tr>\n    <tr>\n      <th>4</th>\n      <td>2022-03-31</td>\n      <td>18756</td>\n    </tr>\n    <tr>\n      <th>5</th>\n      <td>2021-12-31</td>\n      <td>17719</td>\n    </tr>\n    <tr>\n      <th>6</th>\n      <td>2021-09-30</td>\n      <td>13757</td>\n    </tr>\n    <tr>\n      <th>7</th>\n      <td>2021-06-30</td>\n      <td>11958</td>\n    </tr>\n    <tr>\n      <th>8</th>\n      <td>2021-03-31</td>\n      <td>10389</td>\n    </tr>\n    <tr>\n      <th>9</th>\n      <td>2020-12-31</td>\n      <td>10744</td>\n    </tr>\n    <tr>\n      <th>10</th>\n      <td>2020-09-30</td>\n      <td>8771</td>\n    </tr>\n    <tr>\n      <th>11</th>\n      <td>2020-06-30</td>\n      <td>6036</td>\n    </tr>\n    <tr>\n      <th>12</th>\n      <td>2020-03-31</td>\n      <td>5985</td>\n    </tr>\n    <tr>\n      <th>13</th>\n      <td>2019-12-31</td>\n      <td>7384</td>\n    </tr>\n    <tr>\n      <th>14</th>\n      <td>2019-09-30</td>\n      <td>6303</td>\n    </tr>\n    <tr>\n      <th>15</th>\n      <td>2019-06-30</td>\n      <td>6350</td>\n    </tr>\n    <tr>\n      <th>16</th>\n      <td>2019-03-31</td>\n      <td>4541</td>\n    </tr>\n    <tr>\n      <th>17</th>\n      <td>2018-12-31</td>\n      <td>7226</td>\n    </tr>\n    <tr>\n      <th>18</th>\n      <td>2018-09-30</td>\n      <td>6824</td>\n    </tr>\n    <tr>\n      <th>19</th>\n      <td>2018-06-30</td>\n      <td>4002</td>\n    </tr>\n    <tr>\n      <th>20</th>\n      <td>2018-03-31</td>\n      <td>3409</td>\n    </tr>\n    <tr>\n      <th>21</th>\n      <td>2017-12-31</td>\n      <td>3288</td>\n    </tr>\n    <tr>\n      <th>22</th>\n      <td>2017-09-30</td>\n      <td>2985</td>\n    </tr>\n    <tr>\n      <th>23</th>\n      <td>2017-06-30</td>\n      <td>2790</td>\n    </tr>\n    <tr>\n      <th>24</th>\n      <td>2017-03-31</td>\n      <td>2696</td>\n    </tr>\n    <tr>\n      <th>25</th>\n      <td>2016-12-31</td>\n      <td>2285</td>\n    </tr>\n    <tr>\n      <th>26</th>\n      <td>2016-09-30</td>\n      <td>2298</td>\n    </tr>\n    <tr>\n      <th>27</th>\n      <td>2016-06-30</td>\n      <td>1270</td>\n    </tr>\n    <tr>\n      <th>28</th>\n      <td>2016-03-31</td>\n      <td>1147</td>\n    </tr>\n    <tr>\n      <th>29</th>\n      <td>2015-12-31</td>\n      <td>1214</td>\n    </tr>\n    <tr>\n      <th>30</th>\n      <td>2015-09-30</td>\n      <td>937</td>\n    </tr>\n    <tr>\n      <th>31</th>\n      <td>2015-06-30</td>\n      <td>955</td>\n    </tr>\n    <tr>\n      <th>32</th>\n      <td>2015-03-31</td>\n      <td>940</td>\n    </tr>\n    <tr>\n      <th>33</th>\n      <td>2014-12-31</td>\n      <td>957</td>\n    </tr>\n    <tr>\n      <th>34</th>\n      <td>2014-09-30</td>\n      <td>852</td>\n    </tr>\n    <tr>\n      <th>35</th>\n      <td>2014-06-30</td>\n      <td>769</td>\n    </tr>\n    <tr>\n      <th>36</th>\n      <td>2014-03-31</td>\n      <td>621</td>\n    </tr>\n    <tr>\n      <th>37</th>\n      <td>2013-12-31</td>\n      <td>615</td>\n    </tr>\n    <tr>\n      <th>38</th>\n      <td>2013-09-30</td>\n      <td>431</td>\n    </tr>\n    <tr>\n      <th>39</th>\n      <td>2013-06-30</td>\n      <td>405</td>\n    </tr>\n    <tr>\n      <th>40</th>\n      <td>2013-03-31</td>\n      <td>562</td>\n    </tr>\n    <tr>\n      <th>41</th>\n      <td>2012-12-31</td>\n      <td>306</td>\n    </tr>\n    <tr>\n      <th>42</th>\n      <td>2012-09-30</td>\n      <td>50</td>\n    </tr>\n    <tr>\n      <th>43</th>\n      <td>2012-06-30</td>\n      <td>27</td>\n    </tr>\n    <tr>\n      <th>44</th>\n      <td>2012-03-31</td>\n      <td>30</td>\n    </tr>\n    <tr>\n      <th>45</th>\n      <td>2011-12-31</td>\n      <td>39</td>\n    </tr>\n    <tr>\n      <th>46</th>\n      <td>2011-09-30</td>\n      <td>58</td>\n    </tr>\n    <tr>\n      <th>47</th>\n      <td>2011-06-30</td>\n      <td>58</td>\n    </tr>\n    <tr>\n      <th>48</th>\n      <td>2011-03-31</td>\n      <td>49</td>\n    </tr>\n    <tr>\n      <th>49</th>\n      <td>2010-12-31</td>\n      <td>36</td>\n    </tr>\n    <tr>\n      <th>50</th>\n      <td>2010-09-30</td>\n      <td>31</td>\n    </tr>\n    <tr>\n      <th>51</th>\n      <td>2010-06-30</td>\n      <td>28</td>\n    </tr>\n    <tr>\n      <th>52</th>\n      <td>2010-03-31</td>\n      <td>21</td>\n    </tr>\n    <tr>\n      <th>53</th>\n      <td>2009-12-31</td>\n      <td></td>\n    </tr>\n    <tr>\n      <th>54</th>\n      <td>2009-09-30</td>\n      <td>46</td>\n    </tr>\n    <tr>\n      <th>55</th>\n      <td>2009-06-30</td>\n      <td>27</td>\n    </tr>\n  </tbody>\n</table>\n</div>"
     },
     "execution_count": 7,
     "metadata": {},
     "output_type": "execute_result"
    }
   ],
   "source": [
    "tesla_revenue = pd.DataFrame(columns=['Date', 'Revenue'])\n",
    "\n",
    "for table in soup_data.find_all('table'):\n",
    "    if 'Tesla Quarterly Revenue' in table.find('th').text:\n",
    "        rows = table.find_all('tr')\n",
    "\n",
    "        for row in rows:\n",
    "            col = row.find_all('td')\n",
    "\n",
    "            if col:\n",
    "                date = col[0].text\n",
    "                revenue = col[1].text.replace(',', '').replace('$', '')\n",
    "\n",
    "                tesla_revenue = tesla_revenue._append({\"Date\":date,\"Revenue\":revenue}, ignore_index=True)\n",
    "\n",
    "tesla_revenue"
   ],
   "metadata": {
    "collapsed": false,
    "ExecuteTime": {
     "end_time": "2023-06-26T12:10:55.410377Z",
     "start_time": "2023-06-26T12:10:55.395943Z"
    }
   }
  },
  {
   "cell_type": "markdown",
   "source": [
    "display the last rows"
   ],
   "metadata": {
    "collapsed": false
   }
  },
  {
   "cell_type": "code",
   "execution_count": 8,
   "outputs": [
    {
     "data": {
      "text/plain": "          Date Revenue\n51  2010-06-30      28\n52  2010-03-31      21\n53  2009-12-31        \n54  2009-09-30      46\n55  2009-06-30      27",
      "text/html": "<div>\n<style scoped>\n    .dataframe tbody tr th:only-of-type {\n        vertical-align: middle;\n    }\n\n    .dataframe tbody tr th {\n        vertical-align: top;\n    }\n\n    .dataframe thead th {\n        text-align: right;\n    }\n</style>\n<table border=\"1\" class=\"dataframe\">\n  <thead>\n    <tr style=\"text-align: right;\">\n      <th></th>\n      <th>Date</th>\n      <th>Revenue</th>\n    </tr>\n  </thead>\n  <tbody>\n    <tr>\n      <th>51</th>\n      <td>2010-06-30</td>\n      <td>28</td>\n    </tr>\n    <tr>\n      <th>52</th>\n      <td>2010-03-31</td>\n      <td>21</td>\n    </tr>\n    <tr>\n      <th>53</th>\n      <td>2009-12-31</td>\n      <td></td>\n    </tr>\n    <tr>\n      <th>54</th>\n      <td>2009-09-30</td>\n      <td>46</td>\n    </tr>\n    <tr>\n      <th>55</th>\n      <td>2009-06-30</td>\n      <td>27</td>\n    </tr>\n  </tbody>\n</table>\n</div>"
     },
     "execution_count": 8,
     "metadata": {},
     "output_type": "execute_result"
    }
   ],
   "source": [
    "tesla_revenue.tail()"
   ],
   "metadata": {
    "collapsed": false,
    "ExecuteTime": {
     "end_time": "2023-06-26T12:12:05.735791Z",
     "start_time": "2023-06-26T12:12:05.728020Z"
    }
   }
  },
  {
   "cell_type": "markdown",
   "source": [
    "remove Nan or empty cell"
   ],
   "metadata": {
    "collapsed": false
   }
  },
  {
   "cell_type": "code",
   "execution_count": 10,
   "outputs": [
    {
     "data": {
      "text/plain": "          Date Revenue\n50  2010-09-30      31\n51  2010-06-30      28\n52  2010-03-31      21\n54  2009-09-30      46\n55  2009-06-30      27",
      "text/html": "<div>\n<style scoped>\n    .dataframe tbody tr th:only-of-type {\n        vertical-align: middle;\n    }\n\n    .dataframe tbody tr th {\n        vertical-align: top;\n    }\n\n    .dataframe thead th {\n        text-align: right;\n    }\n</style>\n<table border=\"1\" class=\"dataframe\">\n  <thead>\n    <tr style=\"text-align: right;\">\n      <th></th>\n      <th>Date</th>\n      <th>Revenue</th>\n    </tr>\n  </thead>\n  <tbody>\n    <tr>\n      <th>50</th>\n      <td>2010-09-30</td>\n      <td>31</td>\n    </tr>\n    <tr>\n      <th>51</th>\n      <td>2010-06-30</td>\n      <td>28</td>\n    </tr>\n    <tr>\n      <th>52</th>\n      <td>2010-03-31</td>\n      <td>21</td>\n    </tr>\n    <tr>\n      <th>54</th>\n      <td>2009-09-30</td>\n      <td>46</td>\n    </tr>\n    <tr>\n      <th>55</th>\n      <td>2009-06-30</td>\n      <td>27</td>\n    </tr>\n  </tbody>\n</table>\n</div>"
     },
     "execution_count": 10,
     "metadata": {},
     "output_type": "execute_result"
    }
   ],
   "source": [
    "tesla_revenue = tesla_revenue[tesla_revenue['Revenue'].astype(bool)]\n",
    "tesla_revenue.tail()"
   ],
   "metadata": {
    "collapsed": false,
    "ExecuteTime": {
     "end_time": "2023-06-26T12:13:10.205150Z",
     "start_time": "2023-06-26T12:13:10.199737Z"
    }
   }
  },
  {
   "cell_type": "markdown",
   "source": [
    "Use yfinance to Extract Stock Data\n",
    "define Ticker by entering symbol stock"
   ],
   "metadata": {
    "collapsed": false
   }
  },
  {
   "cell_type": "code",
   "execution_count": 12,
   "outputs": [],
   "source": [
    "gm = yf.Ticker('GME')"
   ],
   "metadata": {
    "collapsed": false,
    "ExecuteTime": {
     "end_time": "2023-06-26T12:20:22.179408Z",
     "start_time": "2023-06-26T12:20:22.170383Z"
    }
   }
  },
  {
   "cell_type": "markdown",
   "source": [
    "using ticker . history function to obtain information and save it to my dataframe (df)"
   ],
   "metadata": {
    "collapsed": false
   }
  },
  {
   "cell_type": "code",
   "execution_count": 13,
   "outputs": [],
   "source": [
    "gm_data = gm.history(period='max')"
   ],
   "metadata": {
    "collapsed": false,
    "ExecuteTime": {
     "end_time": "2023-06-26T12:20:26.548455Z",
     "start_time": "2023-06-26T12:20:25.233311Z"
    }
   }
  },
  {
   "cell_type": "markdown",
   "source": [
    "reset the index in order to display the first five rows using the head function"
   ],
   "metadata": {
    "collapsed": false
   }
  },
  {
   "cell_type": "code",
   "execution_count": 14,
   "outputs": [],
   "source": [
    "gm_data.reset_index(inplace=True)"
   ],
   "metadata": {
    "collapsed": false,
    "ExecuteTime": {
     "end_time": "2023-06-26T12:20:48.716334Z",
     "start_time": "2023-06-26T12:20:48.708096Z"
    }
   }
  },
  {
   "cell_type": "markdown",
   "source": [
    "Use Webscraping to Extract GME Revenue Data\n",
    "using request library to scrape data from webpage https://www.macrotrends.net/stocks/charts/GME/gamestop/revenue and parse them using bs (beautifulSoup)"
   ],
   "metadata": {
    "collapsed": false
   }
  },
  {
   "cell_type": "code",
   "execution_count": 15,
   "outputs": [],
   "source": [
    "url = 'https://www.macrotrends.net/stocks/charts/GME/gamestop/revenue'\n",
    "url_data = requests.get(url).text\n",
    "soup_data = BeautifulSoup(url_data, 'html5lib')"
   ],
   "metadata": {
    "collapsed": false,
    "ExecuteTime": {
     "end_time": "2023-06-26T12:21:08.277626Z",
     "start_time": "2023-06-26T12:21:07.940461Z"
    }
   }
  },
  {
   "cell_type": "markdown",
   "source": [
    "extract table and store data in df (remove \"$\" and \",\" from columns)"
   ],
   "metadata": {
    "collapsed": false
   }
  },
  {
   "cell_type": "code",
   "execution_count": 16,
   "outputs": [
    {
     "data": {
      "text/plain": "          Date Revenue\n0   2023-04-30    1237\n1   2023-01-31    2226\n2   2022-10-31    1186\n3   2022-07-31    1136\n4   2022-04-30    1378\n5   2022-01-31    2254\n6   2021-10-31    1297\n7   2021-07-31    1183\n8   2021-04-30    1277\n9   2021-01-31    2122\n10  2020-10-31    1005\n11  2020-07-31     942\n12  2020-04-30    1021\n13  2020-01-31    2194\n14  2019-10-31    1439\n15  2019-07-31    1286\n16  2019-04-30    1548\n17  2019-01-31    3063\n18  2018-10-31    1935\n19  2018-07-31    1501\n20  2018-04-30    1786\n21  2018-01-31    2825\n22  2017-10-31    1989\n23  2017-07-31    1688\n24  2017-04-30    2046\n25  2017-01-31    2403\n26  2016-10-31    1959\n27  2016-07-31    1632\n28  2016-04-30    1972\n29  2016-01-31    3525\n30  2015-10-31    2016\n31  2015-07-31    1762\n32  2015-04-30    2061\n33  2015-01-31    3476\n34  2014-10-31    2092\n35  2014-07-31    1731\n36  2014-04-30    1996\n37  2014-01-31    3684\n38  2013-10-31    2107\n39  2013-07-31    1384\n40  2013-04-30    1865\n41  2013-01-31    3562\n42  2012-10-31    1773\n43  2012-07-31    1550\n44  2012-04-30    2002\n45  2012-01-31    3579\n46  2011-10-31    1947\n47  2011-07-31    1744\n48  2011-04-30    2281\n49  2011-01-31    3693\n50  2010-10-31    1899\n51  2010-07-31    1799\n52  2010-04-30    2083\n53  2010-01-31    3524\n54  2009-10-31    1835\n55  2009-07-31    1739\n56  2009-04-30    1981\n57  2009-01-31    3492",
      "text/html": "<div>\n<style scoped>\n    .dataframe tbody tr th:only-of-type {\n        vertical-align: middle;\n    }\n\n    .dataframe tbody tr th {\n        vertical-align: top;\n    }\n\n    .dataframe thead th {\n        text-align: right;\n    }\n</style>\n<table border=\"1\" class=\"dataframe\">\n  <thead>\n    <tr style=\"text-align: right;\">\n      <th></th>\n      <th>Date</th>\n      <th>Revenue</th>\n    </tr>\n  </thead>\n  <tbody>\n    <tr>\n      <th>0</th>\n      <td>2023-04-30</td>\n      <td>1237</td>\n    </tr>\n    <tr>\n      <th>1</th>\n      <td>2023-01-31</td>\n      <td>2226</td>\n    </tr>\n    <tr>\n      <th>2</th>\n      <td>2022-10-31</td>\n      <td>1186</td>\n    </tr>\n    <tr>\n      <th>3</th>\n      <td>2022-07-31</td>\n      <td>1136</td>\n    </tr>\n    <tr>\n      <th>4</th>\n      <td>2022-04-30</td>\n      <td>1378</td>\n    </tr>\n    <tr>\n      <th>5</th>\n      <td>2022-01-31</td>\n      <td>2254</td>\n    </tr>\n    <tr>\n      <th>6</th>\n      <td>2021-10-31</td>\n      <td>1297</td>\n    </tr>\n    <tr>\n      <th>7</th>\n      <td>2021-07-31</td>\n      <td>1183</td>\n    </tr>\n    <tr>\n      <th>8</th>\n      <td>2021-04-30</td>\n      <td>1277</td>\n    </tr>\n    <tr>\n      <th>9</th>\n      <td>2021-01-31</td>\n      <td>2122</td>\n    </tr>\n    <tr>\n      <th>10</th>\n      <td>2020-10-31</td>\n      <td>1005</td>\n    </tr>\n    <tr>\n      <th>11</th>\n      <td>2020-07-31</td>\n      <td>942</td>\n    </tr>\n    <tr>\n      <th>12</th>\n      <td>2020-04-30</td>\n      <td>1021</td>\n    </tr>\n    <tr>\n      <th>13</th>\n      <td>2020-01-31</td>\n      <td>2194</td>\n    </tr>\n    <tr>\n      <th>14</th>\n      <td>2019-10-31</td>\n      <td>1439</td>\n    </tr>\n    <tr>\n      <th>15</th>\n      <td>2019-07-31</td>\n      <td>1286</td>\n    </tr>\n    <tr>\n      <th>16</th>\n      <td>2019-04-30</td>\n      <td>1548</td>\n    </tr>\n    <tr>\n      <th>17</th>\n      <td>2019-01-31</td>\n      <td>3063</td>\n    </tr>\n    <tr>\n      <th>18</th>\n      <td>2018-10-31</td>\n      <td>1935</td>\n    </tr>\n    <tr>\n      <th>19</th>\n      <td>2018-07-31</td>\n      <td>1501</td>\n    </tr>\n    <tr>\n      <th>20</th>\n      <td>2018-04-30</td>\n      <td>1786</td>\n    </tr>\n    <tr>\n      <th>21</th>\n      <td>2018-01-31</td>\n      <td>2825</td>\n    </tr>\n    <tr>\n      <th>22</th>\n      <td>2017-10-31</td>\n      <td>1989</td>\n    </tr>\n    <tr>\n      <th>23</th>\n      <td>2017-07-31</td>\n      <td>1688</td>\n    </tr>\n    <tr>\n      <th>24</th>\n      <td>2017-04-30</td>\n      <td>2046</td>\n    </tr>\n    <tr>\n      <th>25</th>\n      <td>2017-01-31</td>\n      <td>2403</td>\n    </tr>\n    <tr>\n      <th>26</th>\n      <td>2016-10-31</td>\n      <td>1959</td>\n    </tr>\n    <tr>\n      <th>27</th>\n      <td>2016-07-31</td>\n      <td>1632</td>\n    </tr>\n    <tr>\n      <th>28</th>\n      <td>2016-04-30</td>\n      <td>1972</td>\n    </tr>\n    <tr>\n      <th>29</th>\n      <td>2016-01-31</td>\n      <td>3525</td>\n    </tr>\n    <tr>\n      <th>30</th>\n      <td>2015-10-31</td>\n      <td>2016</td>\n    </tr>\n    <tr>\n      <th>31</th>\n      <td>2015-07-31</td>\n      <td>1762</td>\n    </tr>\n    <tr>\n      <th>32</th>\n      <td>2015-04-30</td>\n      <td>2061</td>\n    </tr>\n    <tr>\n      <th>33</th>\n      <td>2015-01-31</td>\n      <td>3476</td>\n    </tr>\n    <tr>\n      <th>34</th>\n      <td>2014-10-31</td>\n      <td>2092</td>\n    </tr>\n    <tr>\n      <th>35</th>\n      <td>2014-07-31</td>\n      <td>1731</td>\n    </tr>\n    <tr>\n      <th>36</th>\n      <td>2014-04-30</td>\n      <td>1996</td>\n    </tr>\n    <tr>\n      <th>37</th>\n      <td>2014-01-31</td>\n      <td>3684</td>\n    </tr>\n    <tr>\n      <th>38</th>\n      <td>2013-10-31</td>\n      <td>2107</td>\n    </tr>\n    <tr>\n      <th>39</th>\n      <td>2013-07-31</td>\n      <td>1384</td>\n    </tr>\n    <tr>\n      <th>40</th>\n      <td>2013-04-30</td>\n      <td>1865</td>\n    </tr>\n    <tr>\n      <th>41</th>\n      <td>2013-01-31</td>\n      <td>3562</td>\n    </tr>\n    <tr>\n      <th>42</th>\n      <td>2012-10-31</td>\n      <td>1773</td>\n    </tr>\n    <tr>\n      <th>43</th>\n      <td>2012-07-31</td>\n      <td>1550</td>\n    </tr>\n    <tr>\n      <th>44</th>\n      <td>2012-04-30</td>\n      <td>2002</td>\n    </tr>\n    <tr>\n      <th>45</th>\n      <td>2012-01-31</td>\n      <td>3579</td>\n    </tr>\n    <tr>\n      <th>46</th>\n      <td>2011-10-31</td>\n      <td>1947</td>\n    </tr>\n    <tr>\n      <th>47</th>\n      <td>2011-07-31</td>\n      <td>1744</td>\n    </tr>\n    <tr>\n      <th>48</th>\n      <td>2011-04-30</td>\n      <td>2281</td>\n    </tr>\n    <tr>\n      <th>49</th>\n      <td>2011-01-31</td>\n      <td>3693</td>\n    </tr>\n    <tr>\n      <th>50</th>\n      <td>2010-10-31</td>\n      <td>1899</td>\n    </tr>\n    <tr>\n      <th>51</th>\n      <td>2010-07-31</td>\n      <td>1799</td>\n    </tr>\n    <tr>\n      <th>52</th>\n      <td>2010-04-30</td>\n      <td>2083</td>\n    </tr>\n    <tr>\n      <th>53</th>\n      <td>2010-01-31</td>\n      <td>3524</td>\n    </tr>\n    <tr>\n      <th>54</th>\n      <td>2009-10-31</td>\n      <td>1835</td>\n    </tr>\n    <tr>\n      <th>55</th>\n      <td>2009-07-31</td>\n      <td>1739</td>\n    </tr>\n    <tr>\n      <th>56</th>\n      <td>2009-04-30</td>\n      <td>1981</td>\n    </tr>\n    <tr>\n      <th>57</th>\n      <td>2009-01-31</td>\n      <td>3492</td>\n    </tr>\n  </tbody>\n</table>\n</div>"
     },
     "execution_count": 16,
     "metadata": {},
     "output_type": "execute_result"
    }
   ],
   "source": [
    "gm_revenue = pd.DataFrame(columns=['Date', 'Revenue'])\n",
    "\n",
    "for table in soup_data.find_all('table'):\n",
    "    if 'GameStop Quarterly Revenue' in table.find('th').text:\n",
    "        rows = table.find_all('tr')\n",
    "\n",
    "        for row in rows:\n",
    "            col = row.find_all('td')\n",
    "\n",
    "            if col:\n",
    "                date = col[0].text\n",
    "                revenue = col[1].text.replace(',', '').replace('$', '')\n",
    "\n",
    "                gm_revenue = gm_revenue._append({\"Date\":date,\"Revenue\":revenue}, ignore_index=True)\n",
    "\n",
    "gm_revenue"
   ],
   "metadata": {
    "collapsed": false,
    "ExecuteTime": {
     "end_time": "2023-06-26T12:21:32.976362Z",
     "start_time": "2023-06-26T12:21:32.950276Z"
    }
   }
  },
  {
   "cell_type": "markdown",
   "source": [
    "Plot Tesla Stock Graph"
   ],
   "metadata": {
    "collapsed": false
   }
  },
  {
   "cell_type": "markdown",
   "source": [
    "make_graph to draw graph data -> make_graph(gm_data, gm_revenue, 'YOURTICKER')"
   ],
   "metadata": {
    "collapsed": false
   }
  },
  {
   "cell_type": "code",
   "execution_count": null,
   "outputs": [],
   "source": [
    "def make_graph(stock_data, revenue_data, stock):\n",
    "    fig = make_subplots(rows=2, cols=1, shared_xaxes=True, subplot_titles=(\"Historical Share Price\", \"Historical Revenue\"), vertical_spacing = .3)\n",
    "    fig.add_trace(go.Scatter(x=pd.to_datetime(stock_data), y=stock_data.Close.astype(\"float\"), name=\"Share Price\"), row=1, col=1)\n",
    "    fig.add_trace(go.Scatter(x=pd.to_datetime(revenue_data), y=revenue_data.Revenue.astype(\"float\"), name=\"Revenue\"), row=2, col=1)\n",
    "    fig.update_xaxes(title_text=\"Date\", row=1, col=1)\n",
    "    fig.update_xaxes(title_text=\"Date\", row=2, col=1)\n",
    "    fig.update_yaxes(title_text=\"Price ($US)\", row=1, col=1)\n",
    "    fig.update_yaxes(title_text=\"Revenue ($US Millions)\", row=2, col=1)\n",
    "    fig.update_layout(showlegend=True,\n",
    "                      height=900,\n",
    "                      title=stock,\n",
    "                      xaxis_rangeslider_visible=True)\n",
    "    fig.show()"
   ],
   "metadata": {
    "collapsed": false
   }
  },
  {
   "cell_type": "code",
   "execution_count": null,
   "outputs": [],
   "source": [
    "make_graph(tesla_data[['Date', 'Close']], tesla_revenue, 'Tesla')"
   ],
   "metadata": {
    "collapsed": false
   }
  },
  {
   "cell_type": "code",
   "execution_count": null,
   "outputs": [],
   "source": [
    "make_graph(gm_data[['Date', 'Close']], gm_revenue, 'GameStop')"
   ],
   "metadata": {
    "collapsed": false
   }
  }
 ],
 "metadata": {
  "kernelspec": {
   "display_name": "Python 3",
   "language": "python",
   "name": "python3"
  },
  "language_info": {
   "codemirror_mode": {
    "name": "ipython",
    "version": 2
   },
   "file_extension": ".py",
   "mimetype": "text/x-python",
   "name": "python",
   "nbconvert_exporter": "python",
   "pygments_lexer": "ipython2",
   "version": "2.7.6"
  }
 },
 "nbformat": 4,
 "nbformat_minor": 0
}
