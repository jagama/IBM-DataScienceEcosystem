{
 "cells": [
  {
   "cell_type": "markdown",
   "source": [
    "# Data Science Tools and Ecosystem\n",
    "In this notebook, DataScience Tools and Ecosystem are summarized.\n",
    "\n",
    "## Core concepts\n",
    "- Using a Notebook\n",
    "- Leveraging DataScience concepts\n",
    "\n",
    "**Objectives**\n",
    "- List popular languages that Data Science use\n",
    "- List popular libraries that Data Science use\n",
    "- Comments\n",
    "\n",
    "## Data Science Languages\n",
    "### Some of the popular languages that Data Scientists use are:\n",
    "1. Python\n",
    "2. Julia\n",
    "3. Java\n",
    "4. R\n",
    "5. Scala\n",
    "\n",
    "## Data Science Libraries\n",
    "### Some of the commonly used libraries used by Data Scientist include:\n",
    "1. Tensorflow\n",
    "2. NumPy\n",
    "3. Pandas\n",
    "4. Keras\n",
    "5. PyTorch\n",
    "\n",
    "## Data Science Tools Table\n",
    "| Data Science Tools |\n",
    "|--------------------|\n",
    "| BigML              |\n",
    "| Apache Spark       |\n",
    "\n",
    "## Arithmetic Expressions\n",
    "### Below are a few examples of evaluating arithmetic expressions in Python"
   ],
   "metadata": {
    "collapsed": false
   }
  },
  {
   "cell_type": "code",
   "execution_count": 11,
   "outputs": [],
   "source": [
    "sumCalc = 2 + 2\n",
    "#result 4\n",
    "\n",
    "subCalc = 4 - 2\n",
    "#result 2\n",
    "\n",
    "multCalc = 3 * 2\n",
    "#result 6"
   ],
   "metadata": {
    "collapsed": false,
    "ExecuteTime": {
     "end_time": "2023-06-12T09:34:21.643972Z",
     "start_time": "2023-06-12T09:34:21.641839Z"
    }
   }
  },
  {
   "cell_type": "code",
   "execution_count": 12,
   "outputs": [
    {
     "data": {
      "text/plain": "4"
     },
     "execution_count": 12,
     "metadata": {},
     "output_type": "execute_result"
    }
   ],
   "source": [
    "sumCalc"
   ],
   "metadata": {
    "collapsed": false,
    "ExecuteTime": {
     "end_time": "2023-06-12T09:34:23.507553Z",
     "start_time": "2023-06-12T09:34:23.503561Z"
    }
   }
  },
  {
   "cell_type": "code",
   "execution_count": 13,
   "outputs": [
    {
     "data": {
      "text/plain": "2"
     },
     "execution_count": 13,
     "metadata": {},
     "output_type": "execute_result"
    }
   ],
   "source": [
    "subCalc"
   ],
   "metadata": {
    "collapsed": false,
    "ExecuteTime": {
     "end_time": "2023-06-12T09:34:26.691726Z",
     "start_time": "2023-06-12T09:34:26.687708Z"
    }
   }
  },
  {
   "cell_type": "code",
   "execution_count": 14,
   "outputs": [
    {
     "data": {
      "text/plain": "6"
     },
     "execution_count": 14,
     "metadata": {},
     "output_type": "execute_result"
    }
   ],
   "source": [
    "multCalc"
   ],
   "metadata": {
    "collapsed": false,
    "ExecuteTime": {
     "end_time": "2023-06-12T09:34:29.387293Z",
     "start_time": "2023-06-12T09:34:29.384039Z"
    }
   }
  },
  {
   "cell_type": "markdown",
   "source": [
    "## Multiply and Add numbers"
   ],
   "metadata": {
    "collapsed": false
   }
  },
  {
   "cell_type": "code",
   "execution_count": null,
   "outputs": [],
   "source": [
    "#This is a simple arithmetic expression to multiply then add integers"
   ],
   "metadata": {
    "collapsed": false
   }
  },
  {
   "cell_type": "code",
   "execution_count": 15,
   "outputs": [
    {
     "data": {
      "text/plain": "17"
     },
     "execution_count": 15,
     "metadata": {},
     "output_type": "execute_result"
    }
   ],
   "source": [
    "(3 *4 ) + 5\n",
    "#result 17"
   ],
   "metadata": {
    "collapsed": false,
    "ExecuteTime": {
     "end_time": "2023-06-12T09:39:53.727887Z",
     "start_time": "2023-06-12T09:39:53.712723Z"
    }
   }
  },
  {
   "cell_type": "markdown",
   "source": [
    "## Convert Minutes to Hours"
   ],
   "metadata": {
    "collapsed": false
   }
  },
  {
   "cell_type": "code",
   "execution_count": 17,
   "outputs": [
    {
     "data": {
      "text/plain": "3.3333333333333335"
     },
     "execution_count": 17,
     "metadata": {},
     "output_type": "execute_result"
    }
   ],
   "source": [
    "#This will convert 200 minutes to hours by dividing by 60\n",
    "\n",
    "#hours = time / 60\n",
    "hours = 200 / 60\n",
    "#result 3.333\n",
    "hours"
   ],
   "metadata": {
    "collapsed": false,
    "ExecuteTime": {
     "end_time": "2023-06-12T09:46:18.679831Z",
     "start_time": "2023-06-12T09:46:18.667433Z"
    }
   }
  },
  {
   "cell_type": "markdown",
   "source": [
    "## Author\n",
    "jagama"
   ],
   "metadata": {
    "collapsed": false
   }
  }
 ],
 "metadata": {
  "kernelspec": {
   "display_name": "Python 3",
   "language": "python",
   "name": "python3"
  },
  "language_info": {
   "codemirror_mode": {
    "name": "ipython",
    "version": 2
   },
   "file_extension": ".py",
   "mimetype": "text/x-python",
   "name": "python",
   "nbconvert_exporter": "python",
   "pygments_lexer": "ipython2",
   "version": "2.7.6"
  }
 },
 "nbformat": 4,
 "nbformat_minor": 0
}
